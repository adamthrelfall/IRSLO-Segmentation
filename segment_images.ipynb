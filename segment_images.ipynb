{
 "cells": [
  {
   "cell_type": "markdown",
   "id": "f5adf1dc-6da7-402c-b636-bfc33bf392a8",
   "metadata": {},
   "source": [
    "## Scanning Laser Ophthalmoscope (SLO) Segmentation"
   ]
  },
  {
   "cell_type": "markdown",
   "id": "59660d7e-7985-4f63-925b-76665827ebee",
   "metadata": {},
   "source": [
    "This notebook provides a convolutional neural network (UNet) architecture) which performs vessel segmentation in infra-red SLO images (particularly those captured with the Heidelberg Spectralis).\n",
    "\n",
    "To run this software, you need to first install the necessary packages into a python environment. A separate file is included with instructions for this.\n",
    "\n",
    "Next, you will need to put all of your SLO images into the \"SLO\" folder within this directory. Whatever directory structure you put into the original folder will be reproduced in the output folder."
   ]
  },
  {
   "cell_type": "markdown",
   "id": "968e030d-885f-4574-8abe-9d8e8d6c6f6d",
   "metadata": {},
   "source": [
    "This first cell will load the necessary packages and functions to run the segmentation"
   ]
  },
  {
   "cell_type": "code",
   "execution_count": null,
   "id": "3975a60a-ff9f-41a8-88e5-d87661a5be4e",
   "metadata": {},
   "outputs": [],
   "source": [
    "import torch\n",
    "from torch.nn.functional import softmax\n",
    "import glob\n",
    "import cv2\n",
    "from torchvision.transforms import ToTensor\n",
    "from PIL import Image\n",
    "import sys\n",
    "from tqdm import tqdm\n",
    "from os import makedirs, path\n",
    "from numpy import uint8, max as Max, min as Min\n",
    "import numpy as np\n",
    "from skimage import morphology as morph, measure\n",
    "from os.path import exists"
   ]
  },
  {
   "cell_type": "markdown",
   "id": "f5acdd65-8061-4f01-93e9-93f5567fb98f",
   "metadata": {},
   "source": [
    "Next, we define the post-processing applied to the output vessel maps which improves the quality of the output images (by removing small false positive regions, removing small gaps etc.)."
   ]
  },
  {
   "cell_type": "code",
   "execution_count": null,
   "id": "33b105e8-8b11-4956-9101-c983964b4199",
   "metadata": {},
   "outputs": [],
   "source": [
    "# Post-processing of the output images\n",
    "def process(im, strel = morph.disk(5), hole_size = 10, object_size = 150):\n",
    "    imc = morph.binary_closing(im, strel)*1.\n",
    "    im = im/np.max(im)\n",
    "    im_out = np.copy(im)\n",
    "    imdiff = np.logical_xor(im, imc)*1.\n",
    "    labeldiff = measure.label(imdiff)\n",
    "    rp = measure.regionprops(labeldiff)\n",
    "    for region in rp:\n",
    "        if region.area < 10:\n",
    "            continue\n",
    "        if region.eccentricity < 0.95:\n",
    "            continue\n",
    "        if region.axis_minor_length > 5:\n",
    "            continue\n",
    "        im_out[tuple(np.rot90(region.coords, -1))] = 1.\n",
    "    \n",
    "    im_out = morph.remove_small_holes(im_out > 0, hole_size)*1.\n",
    "    im_out = morph.remove_small_objects(im_out > 0, object_size)*1.\n",
    "    return(im_out)"
   ]
  },
  {
   "cell_type": "markdown",
   "id": "3c979daf-4099-45ca-bb16-965a21f00064",
   "metadata": {},
   "source": [
    "Next, you must define the image format you would like to segment. This can be done by changing tif to whatever you want in the following cell. If you have more than one format within your dataset, run this notebook separately for each format."
   ]
  },
  {
   "cell_type": "code",
   "execution_count": null,
   "id": "17faa880-2fd8-434b-aa3c-07552baf87a6",
   "metadata": {},
   "outputs": [],
   "source": [
    "format = '.tif'"
   ]
  },
  {
   "cell_type": "markdown",
   "id": "f885181a-ecd8-4ebf-9531-9aa424954376",
   "metadata": {},
   "source": [
    "The notebook will now load in the segmentation network."
   ]
  },
  {
   "cell_type": "code",
   "execution_count": null,
   "id": "12cae73a-0f93-483b-8013-e850691a0be0",
   "metadata": {},
   "outputs": [],
   "source": [
    "device = 'cuda:0' if torch.cuda.is_available() else 'cpu'\n",
    "model = torch.load('unet/model_trained.pth').to(device)"
   ]
  },
  {
   "cell_type": "markdown",
   "id": "0e69e7f1-c12f-4fa1-ae65-03891f644817",
   "metadata": {},
   "source": [
    "Finally, the system will iterate through all files in the \"SLO\" folder and save the output vessel maps in the \"SLO_Out\" folder (the folder will be made if it does not already exist)"
   ]
  },
  {
   "cell_type": "code",
   "execution_count": null,
   "id": "73ac1274-e510-4d4f-9f15-782c530b7728",
   "metadata": {},
   "outputs": [],
   "source": [
    "#Get filelist\n",
    "flist = glob.glob('./SLO/**/*%s'%format, recursive = True)\n",
    "for f in tqdm(flist):\n",
    "    #load image\n",
    "    f_out = f.replace('SLO', 'SLO_out', 1).replace(format, '.png')\n",
    "    if exists(f_out):\n",
    "        continue\n",
    "    im = ToTensor()(cv2.imread(f)[:,:,0]).unsqueeze(0).to(device)\n",
    "    #segment the image\n",
    "    imout = softmax(model(im.to(device)), dim = 1).detach().cpu().numpy()[0, 1]\n",
    "    imout = process(imout > 0.5)\n",
    "    #make output folder\n",
    "    fold_out = path.split(f_out)[0]\n",
    "    if not exists(fold_out):\n",
    "        makedirs(fold_out, exist_ok = True)\n",
    "    #save output\n",
    "    cv2.imwrite(f_out, np.uint8(imout*255))"
   ]
  },
  {
   "cell_type": "markdown",
   "id": "4ebbafd8-27a5-4fd6-bcef-795610eaa85b",
   "metadata": {},
   "source": [
    "If the output images have not been generated, or you experience other problems, please let me know via the GitHub page for this project: _(link here)_\n",
    "\n",
    "This project uses the UNet reported by Ronneberger et al. (2015, doi:10.1007/978-3-319-24574-4_28)\n",
    "\n",
    "The code for this UNet was taken from https://github.com/milesial/Pytorch-UNet"
   ]
  }
 ],
 "metadata": {
  "kernelspec": {
   "display_name": "Python 3 (ipykernel)",
   "language": "python",
   "name": "python3"
  },
  "language_info": {
   "codemirror_mode": {
    "name": "ipython",
    "version": 3
   },
   "file_extension": ".py",
   "mimetype": "text/x-python",
   "name": "python",
   "nbconvert_exporter": "python",
   "pygments_lexer": "ipython3",
   "version": "3.8.18"
  }
 },
 "nbformat": 4,
 "nbformat_minor": 5
}
